{
  "nbformat": 4,
  "nbformat_minor": 0,
  "metadata": {
    "colab": {
      "provenance": [],
      "authorship_tag": "ABX9TyM3EJao75tFnBkbkdmzmnE2",
      "include_colab_link": true
    },
    "kernelspec": {
      "name": "python3",
      "display_name": "Python 3"
    },
    "language_info": {
      "name": "python"
    }
  },
  "cells": [
    {
      "cell_type": "markdown",
      "metadata": {
        "id": "view-in-github",
        "colab_type": "text"
      },
      "source": [
        "<a href=\"https://colab.research.google.com/github/lucav22/Game-Popularity-Predictor/blob/main/Game_Analysis.ipynb\" target=\"_parent\"><img src=\"https://colab.research.google.com/assets/colab-badge.svg\" alt=\"Open In Colab\"/></a>"
      ]
    },
    {
      "cell_type": "markdown",
      "source": [
        "# Understanding Game Population Dynamics: A Data Science Approach\n",
        "*An in-depth analysis of player retention patterns in video games*\n",
        "\n",
        "## Introduction\n",
        "In the modern gaming industry, understanding player retention and population dynamics has become crucial for game developers, publishers, and analysts. This notebook presents a comprehensive approach to analyzing player count data to identify patterns that distinguish healthy games from those experiencing concerning population decline.\n",
        "\n",
        "Our analysis encompasses a diverse dataset including both successful games that maintained healthy player bases (such as Destiny 2, Counter-Strike: Global Offensive, and Rainbow Six Siege) and games that struggled with player retention (like Babylon's Fall and Battlefield 2042). This variety allows us to identify key patterns and metrics that could predict population trends.\n",
        "\n",
        "In the following sections, we'll explore:\n",
        "1. Data loading and preprocessing techniques\n",
        "2. Statistical analysis of player retention\n",
        "3. Pattern recognition in population changes\n",
        "4. Recovery attempt analysis\n",
        "5. Comparative studies across different game types"
      ],
      "metadata": {
        "id": "eJPWmq67rrde"
      }
    },
    {
      "cell_type": "markdown",
      "source": [
        "## Setting Up Our Analysis Environment\n",
        "\n",
        "Before diving into the data analysis, we need to set up our Python environment with the necessary libraries. We'll be using:\n",
        "- pandas: For data manipulation and analysis\n",
        "- numpy: For numerical computations\n",
        "- matplotlib: For creating visualizations\n",
        "- seaborn: For enhanced statistical visualizations\n",
        "\n",
        "The combination of these libraries will give us powerful tools to process and visualize our game population data. We're also setting matplotlib to display plots inline within our notebook for better readability.\n"
      ],
      "metadata": {
        "id": "xdLPeiAlrzSn"
      }
    },
    {
      "cell_type": "code",
      "source": [
        "import pandas as pd\n",
        "import numpy as np\n",
        "import matplotlib.pyplot as plt\n",
        "from datetime import datetime\n",
        "import os"
      ],
      "metadata": {
        "id": "sFsBEFb0sB2p"
      },
      "execution_count": 2,
      "outputs": []
    },
    {
      "cell_type": "markdown",
      "source": [
        "## Understanding Data Loading and Preprocessing\n",
        "\n",
        "Data preparation is crucial for accurate analysis. Our game population data is organized in a specific structure where each game has its own directory containing player count data. The data loading process needs to handle several important aspects:\n",
        "\n",
        "1. File Path Management: We need to properly navigate our directory structure to access each game's data.\n",
        "2. Date Handling: Converting timestamp information into proper datetime objects for temporal analysis.\n",
        "3. Data Consistency: Ensuring all games' data follows the same format and structure.\n",
        "\n",
        "The function we're about to create will handle these aspects while providing flexibility for different data formats. This standardization is crucial because it allows us to perform comparative analysis across different games fairly and accurately."
      ],
      "metadata": {
        "id": "Xe0IB-VHsMA2"
      }
    },
    {
      "cell_type": "code",
      "source": [
        "# First, let's test a single URL to make sure we can access the data\n",
        "def test_github_access(game_name):\n",
        "    \"\"\"\n",
        "    Test access to a single game's data file on GitHub.\n",
        "    Prints detailed information about what's happening.\n",
        "    \"\"\"\n",
        "    base_url = \"https://raw.githubusercontent.com/lucav22/Game-Popularity-Predictor/main/data/\"\n",
        "    url = f\"{base_url}{game_name}/player_counts.csv\"\n",
        "    print(f\"Attempting to access: {url}\")\n",
        "\n",
        "    try:\n",
        "        df = pd.read_csv(url)\n",
        "        print(f\"Successfully loaded data for {game_name}\")\n",
        "        print(f\"Found {len(df)} rows of data\")\n",
        "        return True\n",
        "    except Exception as e:\n",
        "        print(f\"Error accessing {game_name} data: {str(e)}\")\n",
        "        return False\n",
        "\n",
        "# Let's test with one game first\n",
        "test_github_access('battlefield2042')\n"
      ],
      "metadata": {
        "colab": {
          "base_uri": "https://localhost:8080/"
        },
        "id": "oiT3QJA5uCcC",
        "outputId": "d11d55c8-c5ad-49eb-8d83-1a0b480d9674"
      },
      "execution_count": 7,
      "outputs": [
        {
          "output_type": "stream",
          "name": "stdout",
          "text": [
            "Attempting to access: https://raw.githubusercontent.com/lucav22/Game-Popularity-Predictor/main/data/battlefield2042/player_counts.csv\n",
            "Error accessing battlefield2042 data: HTTP Error 404: Not Found\n"
          ]
        },
        {
          "output_type": "execute_result",
          "data": {
            "text/plain": [
              "False"
            ]
          },
          "metadata": {},
          "execution_count": 7
        }
      ]
    },
    {
      "cell_type": "markdown",
      "source": [
        "## Initial Data Visualization and Understanding\n",
        "\n",
        "Visualization is a powerful tool for understanding our data. In this section, we'll create two important visualizations:\n",
        "\n",
        "1. Raw Player Counts: This shows us the absolute numbers of players for each game. This visualization is important because it helps us understand:\n",
        "   - The scale of each game's player base\n",
        "   - The dramatic differences between AAA and smaller titles\n",
        "   - Initial launch populations versus long-term player counts\n",
        "\n",
        "2. Normalized Player Counts: This is crucial because it allows us to compare patterns across games of different sizes. By converting all player counts to percentages of their peak, we can:\n",
        "   - Identify similar decline patterns across games of different scales\n",
        "   - Compare retention rates more fairly\n",
        "   - Spot unusual patterns that might indicate problems or successes\n",
        "\n",
        "Pay special attention to the shape of these curves, as they often tell us important stories about a game's lifecycle."
      ],
      "metadata": {
        "id": "qfn-KrbMuMk6"
      }
    },
    {
      "cell_type": "code",
      "source": [
        "# Raw player count visualization\n",
        "plt.figure(figsize=(15, 10))\n",
        "\n",
        "for game_name, df in games_data.items():\n",
        "    plt.plot(range(len(df)), df['player_count'], label=game_name)\n",
        "\n",
        "plt.title('Raw Player Counts Over Time')\n",
        "plt.xlabel('Days Since Launch')\n",
        "plt.ylabel('Player Count')\n",
        "plt.legend()\n",
        "plt.grid(True)\n",
        "plt.show()\n",
        "\n",
        "# Normalized player count visualization\n",
        "plt.figure(figsize=(15, 10))\n",
        "\n",
        "for game_name, df in games_data.items():\n",
        "    normalized_counts = (df['player_count'] / df['player_count'].max()) * 100\n",
        "    plt.plot(range(len(normalized_counts)), normalized_counts, label=game_name)\n",
        "\n",
        "plt.title('Normalized Player Counts Over Time')\n",
        "plt.xlabel('Days Since Launch')\n",
        "plt.ylabel('Percentage of Peak Players')\n",
        "plt.legend()\n",
        "plt.grid(True)\n",
        "plt.show()"
      ],
      "metadata": {
        "id": "yTtctXGtuShv"
      },
      "execution_count": null,
      "outputs": []
    }
  ]
}